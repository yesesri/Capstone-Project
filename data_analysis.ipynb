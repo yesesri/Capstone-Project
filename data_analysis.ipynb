{
 "cells": [
  {
   "cell_type": "markdown",
   "metadata": {},
   "source": [
    "# Sparkify Data Analysis\n",
    "Table of Contents \n",
    "1. Project Motivation\n",
    "2. Required Packages\n",
    "3. Load and Clean data [ ETL ] \n",
    "4. Feature Engineering \n",
    "5. Modelling\n",
    "7. Final Model and Conclusion"
   ]
  },
  {
   "cell_type": "markdown",
   "metadata": {},
   "source": [
    "#### Project Motivation [ \"Udacity Capstone Project\" ]\n",
    ">The dataset used in current analysis includes user basic details and each user interaction with the Sparkify service. Our goal is to build a model with optimal accuracy and low false positives, to identify costumers, who are likely to leave the service, so any additional promotions can be sent to avoid costumer churning.\n",
    "\n",
    ">The current data analysis was performed using Spark, any cloud or cluster can be used to perform the analysis instead of spark.\n",
    "\n",
    "> Churn Definition: \n",
    "when customers or subscribers stop doing business with a company or service. … Customer churn impedes growth, so companies should have a defined method for calculating customer churn in a given period of time.\n",
    "\n",
    "> How Churn is defined for current Data:\n",
    "Column “churn” is created based on “Cancellation Confirmation “event, user with ““Cancellation Confirmation “ were labelled “1” otherwise “0”"
   ]
  },
  {
   "cell_type": "markdown",
   "metadata": {},
   "source": [
    "#### Data Overview \n",
    "> In current analysis, we will be using user behavior log data.\n",
    "> outline of data : \n",
    "    - data includes basic  information about each user and thier interaction with Sparkify.\n",
    "    - each user can have multiple entries.\n",
    "    - data also include information on churned users i.e. users who unsubscribed/ cancelled the Sparkify subscription.\n",
    "    \n"
   ]
  },
  {
   "cell_type": "markdown",
   "metadata": {},
   "source": [
    "#### Required Packages \n",
    "    - Pyspark \n",
    "    - Spark [ can use AWS or IBM cloud ] \n",
    "    - Matplotlib\n",
    "    - Seaborn\n",
    "    - pandas\n",
    "    \n"
   ]
  },
  {
   "cell_type": "code",
   "execution_count": 3,
   "metadata": {},
   "outputs": [],
   "source": [
    "# import libraries\n",
    "from pyspark.sql import SparkSession\n",
    "from pyspark.sql.functions import avg, col, concat, desc, explode, lit, min, max, split, udf, isnull\n",
    "from pyspark.sql.types import IntegerType\n",
    "\n",
    "from pyspark.ml import Pipeline\n",
    "from pyspark.ml.classification import LogisticRegression, RandomForestClassifier, GBTClassifier, DecisionTreeClassifier, NaiveBayes,LinearSVC\n",
    "from pyspark.ml.evaluation import MulticlassClassificationEvaluator\n",
    "from pyspark.ml.feature import CountVectorizer, IDF, Normalizer, PCA, RegexTokenizer, StandardScaler, StopWordsRemover, StringIndexer, VectorAssembler\n",
    "from pyspark.ml.regression import LinearRegression\n",
    "from pyspark.ml.tuning import CrossValidator, ParamGridBuilder\n",
    "from pyspark.sql import Window\n",
    "\n",
    "import re\n",
    "import datetime\n",
    "import matplotlib.pyplot as plt\n",
    "import pandas as pd\n",
    "import seaborn as sns\n",
    "from time import time"
   ]
  },
  {
   "cell_type": "code",
   "execution_count": 4,
   "metadata": {},
   "outputs": [],
   "source": [
    "# create a Spark session\n",
    "spark = SparkSession \\\n",
    "    .builder \\\n",
    "    .appName(\"Sparkify\") \\\n",
    "    .getOrCreate()"
   ]
  },
  {
   "cell_type": "markdown",
   "metadata": {},
   "source": [
    "# Load and Clean Dataset\n",
    "In this workspace, the mini-dataset file is `mini_sparkify_event_data.json`. Load and clean the dataset, checking for invalid or missing data - for example, records without userids or sessionids. "
   ]
  },
  {
   "cell_type": "code",
   "execution_count": 5,
   "metadata": {},
   "outputs": [],
   "source": [
    "# full sparkify dataset \"s3n://dsnd-sparkify/sparkify_event_data.json\"\n",
    "#load dataset \n",
    "df       = spark.read.json('mini_sparkify_event_data.json')\n",
    "df_spark = df"
   ]
  },
  {
   "cell_type": "markdown",
   "metadata": {},
   "source": [
    "    Data Cleaninig Steps \n",
    "         > Rows with empty userIds and session Ids are filtered out\n",
    "         > duplicate \"UserIDs\" and \"page\" information are dropped out "
   ]
  },
  {
   "cell_type": "code",
   "execution_count": 6,
   "metadata": {},
   "outputs": [
    {
     "data": {
      "text/plain": [
       "DataFrame[artist: string, auth: string, firstName: string, gender: string, itemInSession: bigint, lastName: string, length: double, level: string, location: string, method: string, page: string, registration: bigint, sessionId: bigint, song: string, status: bigint, ts: bigint, userAgent: string, userId: string]"
      ]
     },
     "execution_count": 6,
     "metadata": {},
     "output_type": "execute_result"
    }
   ],
   "source": [
    "#check data \n",
    "df.persist()"
   ]
  },
  {
   "cell_type": "code",
   "execution_count": 7,
   "metadata": {},
   "outputs": [
    {
     "data": {
      "text/plain": [
       "286500"
      ]
     },
     "execution_count": 7,
     "metadata": {},
     "output_type": "execute_result"
    }
   ],
   "source": [
    "df.count()"
   ]
  },
  {
   "cell_type": "code",
   "execution_count": 8,
   "metadata": {},
   "outputs": [
    {
     "name": "stdout",
     "output_type": "stream",
     "text": [
      "data after removing NAs : 286500\n",
      "data after removing empty userIds : 278154\n"
     ]
    }
   ],
   "source": [
    "#Drop records with missing  or empty , userIds and session Ids.\n",
    "df = df.dropna(how = \"any\", subset = [\"userId\", \"sessionId\"])\n",
    "print (\"data after removing NAs : %d\"%( df.count() ))\n",
    "df = df.filter(df.userId!=\"\")\n",
    "print (\"data after removing empty userIds : %d\"%( df.count() ))"
   ]
  },
  {
   "cell_type": "markdown",
   "metadata": {},
   "source": [
    "# Exploratory Data Analysis\n",
    "When you're working with the full dataset, perform EDA by loading a small subset of the data and doing basic manipulations within Spark. In this workspace, you are already provided a small subset of data you can explore.\n",
    "\n",
    "### Define Churn\n",
    "\n",
    "Once you've done some preliminary analysis, create a column `Churn` to use as the label for your model. I suggest using the `Cancellation Confirmation` events to define your churn, which happen for both paid and free users. As a bonus task, you can also look into the `Downgrade` events.\n",
    "\n",
    "### Explore Data\n",
    "Once you've defined churn, perform some exploratory data analysis to observe the behavior for users who stayed vs users who churned. You can start by exploring aggregates on these two groups of users, observing how much of a specific action they experienced per a certain time unit or number of songs played."
   ]
  },
  {
   "cell_type": "code",
   "execution_count": 9,
   "metadata": {},
   "outputs": [],
   "source": [
    "# define churn \n",
    "churn_events = udf(lambda x: 1 if x == 'Cancellation Confirmation' else 0, IntegerType())\n",
    "df           = df.withColumn('churn_event', churn_events('page'))\n",
    "# label user who churned\n",
    "df  = df.withColumn('churn', max('churn_event').over( Window.partitionBy('userId') ) )"
   ]
  },
  {
   "cell_type": "code",
   "execution_count": 10,
   "metadata": {},
   "outputs": [
    {
     "name": "stdout",
     "output_type": "stream",
     "text": [
      "+------+-----+\n",
      "|userId|churn|\n",
      "+------+-----+\n",
      "|100010|    0|\n",
      "|200002|    0|\n",
      "|   125|    1|\n",
      "|   124|    0|\n",
      "|    51|    1|\n",
      "|     7|    0|\n",
      "|    15|    0|\n",
      "|    54|    1|\n",
      "|   155|    0|\n",
      "|100014|    1|\n",
      "|   132|    0|\n",
      "|   154|    0|\n",
      "|   101|    1|\n",
      "|    11|    0|\n",
      "|   138|    0|\n",
      "|300017|    0|\n",
      "|100021|    1|\n",
      "|    29|    1|\n",
      "|    69|    0|\n",
      "|   112|    0|\n",
      "+------+-----+\n",
      "only showing top 20 rows\n",
      "\n"
     ]
    }
   ],
   "source": [
    "df.select(['userId', 'churn']).dropDuplicates().show(20)\n"
   ]
  },
  {
   "cell_type": "code",
   "execution_count": 11,
   "metadata": {},
   "outputs": [
    {
     "name": "stdout",
     "output_type": "stream",
     "text": [
      "+--------------------+\n",
      "|                page|\n",
      "+--------------------+\n",
      "|              Cancel|\n",
      "|    Submit Downgrade|\n",
      "|         Thumbs Down|\n",
      "|                Home|\n",
      "|           Downgrade|\n",
      "|         Roll Advert|\n",
      "|              Logout|\n",
      "|       Save Settings|\n",
      "|Cancellation Conf...|\n",
      "|               About|\n",
      "|            Settings|\n",
      "|     Add to Playlist|\n",
      "|          Add Friend|\n",
      "|            NextSong|\n",
      "|           Thumbs Up|\n",
      "|                Help|\n",
      "|             Upgrade|\n",
      "|               Error|\n",
      "|      Submit Upgrade|\n",
      "+--------------------+\n",
      "\n"
     ]
    }
   ],
   "source": [
    "df.select('page').dropDuplicates().show()"
   ]
  },
  {
   "cell_type": "markdown",
   "metadata": {},
   "source": [
    "#### Data Exploration "
   ]
  },
  {
   "cell_type": "markdown",
   "metadata": {},
   "source": [
    "A. Relation  between users and songs listend on Sparkify "
   ]
  },
  {
   "cell_type": "code",
   "execution_count": 12,
   "metadata": {},
   "outputs": [
    {
     "data": {
      "image/png": "[encoded data removed]",
      "text/plain": [
       "<matplotlib.figure.Figure at 0x7faaa7ab2f98>"
      ]
     },
     "metadata": {
      "needs_background": "light"
     },
     "output_type": "display_data"
    }
   ],
   "source": [
    "# User  distribution over churn and non-churn users\n",
    "df_subset     = df.where('page == \"NextSong\" OR page == \"Thumbs Up\"').groupby(['userId', 'churn', 'gender', 'page'])\n",
    "df_subset_pd  = df_subset.count().toPandas()\n",
    "plot_data     = df_subset_pd.pivot_table(index=['userId','churn','gender'], values='count', columns='page').reset_index()\n",
    "\n",
    "#Plotting \n",
    "ax = sns.violinplot(data=plot_data, x='churn', y='NextSong', hue='gender')\n",
    "plt.xlabel('1: churned ; 0 : otherwise')\n",
    "plt.ylabel('#songs Listened')\n",
    "plt.legend(title='Gender', loc='best')\n",
    "plt.title('Fig 1a : Users Vs number of songs')\n",
    "sns.despine(ax=ax);"
   ]
  },
  {
   "cell_type": "markdown",
   "metadata": {},
   "source": [
    "                      From the Plot above, \n",
    "                               females listen to higer number of songs than males."
   ]
  },
  {
   "cell_type": "code",
   "execution_count": 13,
   "metadata": {},
   "outputs": [
    {
     "data": {
      "image/png": "[encoded data removed]",
      "text/plain": [
       "<matplotlib.figure.Figure at 0x7faaa82e0cc0>"
      ]
     },
     "metadata": {
      "needs_background": "light"
     },
     "output_type": "display_data"
    }
   ],
   "source": [
    "\n",
    "ax = sns.violinplot(data=plot_data, x='churn', y='Thumbs Up', hue='gender')\n",
    "plt.xlabel('1: churned ; 0 : otherwise')\n",
    "plt.ylabel('#songs Listened and Liked')\n",
    "plt.legend(title='Gender', loc='best')\n",
    "plt.title('Fig 1b : Users Vs number of songs Liked')\n",
    "sns.despine(ax=ax);"
   ]
  },
  {
   "cell_type": "markdown",
   "metadata": {},
   "source": [
    "        From above plot, \n",
    "            no much notable varaiation maong four distributions"
   ]
  },
  {
   "cell_type": "code",
   "execution_count": 14,
   "metadata": {},
   "outputs": [
    {
     "data": {
      "image/png": "[encoded data removed]",
      "text/plain": [
       "<matplotlib.figure.Figure at 0x7faaa82b56a0>"
      ]
     },
     "metadata": {
      "needs_background": "light"
     },
     "output_type": "display_data"
    }
   ],
   "source": [
    "df_subset     = df.where('page == \"NextSong\"').groupby(['userId', 'churn', 'gender','sessionId', 'page'])\n",
    "df_subset     = df_subset.count().groupby(['churn', 'userId', 'gender']).agg({'count':'avg'}).withColumnRenamed('avg(count)', 'avg_songs_played')\n",
    "df_subset_pd  =  df_subset.toPandas()\n",
    "ax = sns.violinplot('churn', y='avg_songs_played', hue='gender', data=df_subset_pd)\n",
    "plt.xlabel('1: churned ; 0 : otherwise')\n",
    "plt.ylabel('average songs per session')\n",
    "plt.legend(title='Gender', loc='best')\n",
    "plt.title('Fig 1c : Users Vs songs per session (avg)')\n",
    "sns.despine(ax=ax);"
   ]
  },
  {
   "cell_type": "markdown",
   "metadata": {},
   "source": [
    "From above plot, \n",
    "         - Among Non-Churned users, both male and female had listened to same number of songs per session\n",
    "         - while, among churned users, males listened to slightly more songs per session than females."
   ]
  },
  {
   "cell_type": "markdown",
   "metadata": {},
   "source": [
    "B. Which users are un-subscribing or cancelling the plan , paid or free users"
   ]
  },
  {
   "cell_type": "code",
   "execution_count": 15,
   "metadata": {},
   "outputs": [
    {
     "data": {
      "image/png": "[encoded data removed]",
      "text/plain": [
       "<matplotlib.figure.Figure at 0x7faaa82b5cc0>"
      ]
     },
     "metadata": {
      "needs_background": "light"
     },
     "output_type": "display_data"
    }
   ],
   "source": [
    "df_subset  = df.filter('page == \"Cancellation Confirmation\"').groupby('level').count()\n",
    "plot_data  = df_subset.toPandas()\n",
    "\n",
    "ax = sns.barplot(data=plot_data, x='level', y='count')\n",
    "plt.xlabel('type of user')\n",
    "plt.ylabel('#churned_users')\n",
    "plt.title('Fig 2 : type of user  Vs number of churned_customers')\n",
    "sns.despine(ax=ax);"
   ]
  },
  {
   "cell_type": "markdown",
   "metadata": {},
   "source": [
    "Which users are un-subscribing or cancelling the plan , paid or free users : from plot, \"Paid Users\""
   ]
  },
  {
   "cell_type": "markdown",
   "metadata": {},
   "source": [
    "C. Relation between  users and registration period"
   ]
  },
  {
   "cell_type": "code",
   "execution_count": 16,
   "metadata": {},
   "outputs": [
    {
     "data": {
      "image/png": "[encoded data removed]",
      "text/plain": [
       "<matplotlib.figure.Figure at 0x7faaa57df160>"
      ]
     },
     "metadata": {
      "needs_background": "light"
     },
     "output_type": "display_data"
    }
   ],
   "source": [
    "# add a time column to df\n",
    "time       = udf(lambda x: datetime.datetime.fromtimestamp(x / 1000.0).strftime(\"%Y-%m-%d %H:%M:%S\"))\n",
    "df_valid   = df.withColumn('event_time', time('ts'))\n",
    "df_valid   = df.withColumn('registration_time', time('registration'))\n",
    "###\n",
    "df_subset    = df.select('userId','registration','ts','churn').withColumn('lifetime',(df.ts-df.registration))\n",
    "df_subset    = df_subset.groupBy('userId','churn').agg({'lifetime':'max'}).withColumnRenamed('max(lifetime)','lifetime')\n",
    "plot_data_pd = df_subset .select('userId', 'churn', (col('lifetime')/1000/3600/24).alias('lifetime')).toPandas()\n",
    "#Plotting \n",
    "ax = sns.boxplot(data=plot_data_pd, x='lifetime', y='churn', orient='h')\n",
    "plt.ylabel('1: churned ; 0 : otherwise')\n",
    "plt.xlabel('Registration period')\n",
    "plt.title('Fig 3 : Relation between users and registration period')\n",
    "sns.despine(ax=ax);"
   ]
  },
  {
   "cell_type": "markdown",
   "metadata": {},
   "source": [
    "From the plot, as expected churned users  were registered for short time period to Sparkify."
   ]
  },
  {
   "cell_type": "markdown",
   "metadata": {},
   "source": [
    "# Feature Engineering\n",
    "Once you've familiarized yourself with the data, build out the features you find promising to train your model on. To work with the full dataset, you can follow the following steps.\n",
    "- Write a script to extract the necessary features from the smaller subset of data\n",
    "- Ensure that your script is scalable, using the best practices discussed in Lesson 3\n",
    "- Try your script on the full data set, debugging your script if necessary\n",
    "\n",
    "If you are working in the classroom workspace, you can just extract features based on the small subset of data contained here. Be sure to transfer over this work to the larger dataset when you work on your Spark cluster."
   ]
  },
  {
   "cell_type": "markdown",
   "metadata": {},
   "source": [
    "Featur 1 : Time since registration"
   ]
  },
  {
   "cell_type": "code",
   "execution_count": 17,
   "metadata": {},
   "outputs": [
    {
     "name": "stdout",
     "output_type": "stream",
     "text": [
      "+-------+------------------+-------------------+\n",
      "|summary|            userId|           lifetime|\n",
      "+-------+------------------+-------------------+\n",
      "|  count|               225|                225|\n",
      "|   mean|65391.013333333336|   79.8456834876543|\n",
      "| stddev|105396.47791907164|  37.66147001861254|\n",
      "|    min|                10|0.31372685185185184|\n",
      "|    max|                99|  256.3776736111111|\n",
      "+-------+------------------+-------------------+\n",
      "\n"
     ]
    }
   ],
   "source": [
    "f1 = df_valid \\\n",
    "    .select('userId','registration','ts') \\\n",
    "    .withColumn('lifetime',(df_valid.ts-df_valid.registration)) \\\n",
    "    .groupBy('userId') \\\n",
    "    .agg({'lifetime':'max'}) \\\n",
    "    .withColumnRenamed('max(lifetime)','lifetime') \\\n",
    "    .select('userId', (col('lifetime')/1000/3600/24).alias('lifetime'))\n",
    "f1.describe().show()"
   ]
  },
  {
   "cell_type": "markdown",
   "metadata": {},
   "source": [
    "Feature 2 : Total number of Songs Listened"
   ]
  },
  {
   "cell_type": "code",
   "execution_count": 18,
   "metadata": {},
   "outputs": [
    {
     "name": "stdout",
     "output_type": "stream",
     "text": [
      "+-------+------------------+-----------------+\n",
      "|summary|            userID|      total_songs|\n",
      "+-------+------------------+-----------------+\n",
      "|  count|               225|              225|\n",
      "|   mean|65391.013333333336|          1236.24|\n",
      "| stddev|105396.47791907164|1329.531716432519|\n",
      "|    min|                10|                6|\n",
      "|    max|                99|             9632|\n",
      "+-------+------------------+-----------------+\n",
      "\n"
     ]
    }
   ],
   "source": [
    "f2 = df\\\n",
    "    .select('userID','song') \\\n",
    "    .groupBy('userID') \\\n",
    "    .count() \\\n",
    "    .withColumnRenamed('count', 'total_songs')\n",
    "f2.describe().show()"
   ]
  },
  {
   "cell_type": "markdown",
   "metadata": {},
   "source": [
    "Feature 3 : Number of songs liked i.e. thumb's up "
   ]
  },
  {
   "cell_type": "code",
   "execution_count": 19,
   "metadata": {},
   "outputs": [
    {
     "name": "stdout",
     "output_type": "stream",
     "text": [
      "+-------+------------------+-----------------+\n",
      "|summary|            userID|     num_thumb_up|\n",
      "+-------+------------------+-----------------+\n",
      "|  count|               220|              220|\n",
      "|   mean| 66420.27727272727|            57.05|\n",
      "| stddev|106196.51156121881|65.67028650524044|\n",
      "|    min|                10|                1|\n",
      "|    max|                99|              437|\n",
      "+-------+------------------+-----------------+\n",
      "\n"
     ]
    }
   ],
   "source": [
    "f3 = df_valid \\\n",
    "    .select('userID','page') \\\n",
    "    .where(df_valid.page == 'Thumbs Up') \\\n",
    "    .groupBy('userID') \\\n",
    "    .count() \\\n",
    "    .withColumnRenamed('count', 'num_thumb_up') \n",
    "f3.describe().show()"
   ]
  },
  {
   "cell_type": "markdown",
   "metadata": {},
   "source": [
    "Feature 4 : Number of songs liked i.e. thumb's down"
   ]
  },
  {
   "cell_type": "code",
   "execution_count": 20,
   "metadata": {},
   "outputs": [
    {
     "name": "stdout",
     "output_type": "stream",
     "text": [
      "+-------+------------------+------------------+\n",
      "|summary|            userID|    num_thumb_down|\n",
      "+-------+------------------+------------------+\n",
      "|  count|               203|               203|\n",
      "|   mean| 66066.16256157635|12.541871921182265|\n",
      "| stddev|106108.32569893777|13.198108566983787|\n",
      "|    min|                10|                 1|\n",
      "|    max|                99|                75|\n",
      "+-------+------------------+------------------+\n",
      "\n"
     ]
    }
   ],
   "source": [
    "f4 = df_valid \\\n",
    "    .select('userID','page') \\\n",
    "    .where(df_valid.page == 'Thumbs Down') \\\n",
    "    .groupBy('userID') \\\n",
    "    .count() \\\n",
    "    .withColumnRenamed('count', 'num_thumb_down')\n",
    "f4.describe().show()"
   ]
  },
  {
   "cell_type": "markdown",
   "metadata": {},
   "source": [
    "Feature 5 : Songs listened per session"
   ]
  },
  {
   "cell_type": "code",
   "execution_count": 21,
   "metadata": {},
   "outputs": [
    {
     "name": "stdout",
     "output_type": "stream",
     "text": [
      "+-------+------------------+-----------------+\n",
      "|summary|            userId| avg_songs_played|\n",
      "+-------+------------------+-----------------+\n",
      "|  count|               225|              225|\n",
      "|   mean|65391.013333333336|70.78971233958933|\n",
      "| stddev|105396.47791907164| 42.6153697543817|\n",
      "|    min|                10|              3.0|\n",
      "|    max|                99|286.6666666666667|\n",
      "+-------+------------------+-----------------+\n",
      "\n"
     ]
    }
   ],
   "source": [
    "f5 = df_valid.where('page == \"NextSong\"') \\\n",
    "    .groupby(['userId', 'sessionId']) \\\n",
    "    .count() \\\n",
    "    .groupby(['userId']) \\\n",
    "    .agg({'count':'avg'}) \\\n",
    "    .withColumnRenamed('avg(count)', 'avg_songs_played')\n",
    "f5.describe().show()"
   ]
  },
  {
   "cell_type": "markdown",
   "metadata": {},
   "source": [
    "Feature 6 : Gender"
   ]
  },
  {
   "cell_type": "code",
   "execution_count": 22,
   "metadata": {},
   "outputs": [
    {
     "name": "stdout",
     "output_type": "stream",
     "text": [
      "+-------+------------------+-------------------+\n",
      "|summary|            userId|             gender|\n",
      "+-------+------------------+-------------------+\n",
      "|  count|               225|                225|\n",
      "|   mean|65391.013333333336| 0.4622222222222222|\n",
      "| stddev|105396.47791907165|0.49968243883744773|\n",
      "|    min|                10|                  0|\n",
      "|    max|                99|                  1|\n",
      "+-------+------------------+-------------------+\n",
      "\n"
     ]
    }
   ],
   "source": [
    "f6 = df_valid \\\n",
    "    .select(\"userId\", \"gender\") \\\n",
    "    .dropDuplicates() \\\n",
    "    .replace(['M', 'F'], ['0', '1'], 'gender') \\\n",
    "    .select('userId', col('gender').cast('int'))\n",
    "f6.describe().show()"
   ]
  },
  {
   "cell_type": "markdown",
   "metadata": {},
   "source": [
    "Feature 7 : duration of time for which songs were listened"
   ]
  },
  {
   "cell_type": "code",
   "execution_count": 23,
   "metadata": {},
   "outputs": [
    {
     "name": "stdout",
     "output_type": "stream",
     "text": [
      "+-------+------------------+------------------+\n",
      "|summary|            userID|       listen_time|\n",
      "+-------+------------------+------------------+\n",
      "|  count|               225|               225|\n",
      "|   mean|65391.013333333336|252558.32065155543|\n",
      "| stddev|105396.47791907164| 275396.4038847635|\n",
      "|    min|                10|         691.66884|\n",
      "|    max|                99|1991154.9155799907|\n",
      "+-------+------------------+------------------+\n",
      "\n"
     ]
    }
   ],
   "source": [
    "f7 = df_valid \\\n",
    "    .select('userID','length') \\\n",
    "    .groupBy('userID') \\\n",
    "    .sum() \\\n",
    "    .withColumnRenamed('sum(length)', 'listen_time')\n",
    "f7.describe().show()"
   ]
  },
  {
   "cell_type": "markdown",
   "metadata": {},
   "source": [
    "Response Variable"
   ]
  },
  {
   "cell_type": "code",
   "execution_count": 24,
   "metadata": {},
   "outputs": [
    {
     "name": "stdout",
     "output_type": "stream",
     "text": [
      "+-------+------------------+------------------+\n",
      "|summary|            userId|             label|\n",
      "+-------+------------------+------------------+\n",
      "|  count|               225|               225|\n",
      "|   mean|65391.013333333336|0.2311111111111111|\n",
      "| stddev|105396.47791907164|0.4224832108996327|\n",
      "|    min|                10|                 0|\n",
      "|    max|                99|                 1|\n",
      "+-------+------------------+------------------+\n",
      "\n"
     ]
    }
   ],
   "source": [
    "#Y label i.e. Churn \n",
    "label = df_valid \\\n",
    "    .select('userId', col('churn').alias('label')) \\\n",
    "    .dropDuplicates()\n",
    "label.describe().show()"
   ]
  },
  {
   "cell_type": "code",
   "execution_count": 25,
   "metadata": {},
   "outputs": [
    {
     "name": "stdout",
     "output_type": "stream",
     "text": [
      "+------------------+-----------+------------+--------------+------------------+------+------------------+-----+\n",
      "|          lifetime|total_songs|num_thumb_up|num_thumb_down|  avg_songs_played|gender|       listen_time|label|\n",
      "+------------------+-----------+------------+--------------+------------------+------+------------------+-----+\n",
      "|  55.6436574074074|        381|          17|             5|39.285714285714285|     1| 66940.89735000003|    0|\n",
      "| 70.07462962962963|        474|          21|             6|              64.5|     0| 94008.87593999993|    0|\n",
      "| 71.31688657407408|         11|           0|             0|               8.0|     0|2089.1131000000005|    1|\n",
      "|131.55591435185184|       4825|         171|            41|145.67857142857142|     1|1012312.0927899999|    0|\n",
      "|19.455844907407407|       2464|         100|            21|             211.1|     0| 523275.8428000004|    1|\n",
      "+------------------+-----------+------------+--------------+------------------+------+------------------+-----+\n",
      "only showing top 5 rows\n",
      "\n"
     ]
    }
   ],
   "source": [
    "#Merge Labels\n",
    "data_for_model  = f1.join(f2,'userID','outer') \\\n",
    "    .join(f3,'userID','outer') \\\n",
    "    .join(f4,'userID','outer') \\\n",
    "    .join(f5,'userID','outer') \\\n",
    "    .join(f6,'userID','outer') \\\n",
    "    .join(f7,'userID','outer') \\\n",
    "    .join(label,'userID','outer') \\\n",
    "    .drop('userID') \\\n",
    "    .fillna(0)\n",
    "\n",
    "data_for_model.show(5)"
   ]
  },
  {
   "cell_type": "markdown",
   "metadata": {},
   "source": [
    "# Modeling\n",
    "Split the full dataset into train, test, and validation sets. Test out several of the machine learning methods you learned. Evaluate the accuracy of the various models, tuning parameters as necessary. Determine your winning model based on test accuracy and report results on the validation set. Since the churned users are a fairly small subset, I suggest using F1 score as the metric to optimize."
   ]
  },
  {
   "cell_type": "code",
   "execution_count": 26,
   "metadata": {},
   "outputs": [],
   "source": [
    "#Vector assembly  \n",
    "cols      = [\"lifetime\", \"total_songs\", \"num_thumb_up\",'num_thumb_down','avg_songs_played', 'gender', 'listen_time']\n",
    "assembler = VectorAssembler(inputCols=cols, outputCol=\"NumFeatures\")\n",
    "data      = assembler.transform( data_for_model )\n",
    "# standard scaler\n",
    "# to standardize features, mean is calculated for each feature and divided by standard deviation of each feature.\n",
    "scaler            = StandardScaler(inputCol=\"NumFeatures\", outputCol=\"features\", withStd=True)\n",
    "scalerModel       = scaler.fit(data)\n",
    "data              = scalerModel.transform(data)\n",
    "# train test split\n",
    "train, rest = data.randomSplit([0.6, 0.4], seed=42)\n",
    "validation, test = rest.randomSplit([0.5, 0.5], seed=42)"
   ]
  },
  {
   "cell_type": "code",
   "execution_count": 30,
   "metadata": {},
   "outputs": [],
   "source": [
    "train_Pd = train.toPandas()"
   ]
  },
  {
   "cell_type": "code",
   "execution_count": 36,
   "metadata": {},
   "outputs": [
    {
     "data": {
      "text/plain": [
       "(142, 10)"
      ]
     },
     "execution_count": 36,
     "metadata": {},
     "output_type": "execute_result"
    }
   ],
   "source": [
    "train_Pd.shape"
   ]
  },
  {
   "cell_type": "code",
   "execution_count": 38,
   "metadata": {},
   "outputs": [
    {
     "data": {
      "text/html": [
       "<div>\n",
       "<style scoped>\n",
       "    .dataframe tbody tr th:only-of-type {\n",
       "        vertical-align: middle;\n",
       "    }\n",
       "\n",
       "    .dataframe tbody tr th {\n",
       "        vertical-align: top;\n",
       "    }\n",
       "\n",
       "    .dataframe thead th {\n",
       "        text-align: right;\n",
       "    }\n",
       "</style>\n",
       "<table border=\"1\" class=\"dataframe\">\n",
       "  <thead>\n",
       "    <tr style=\"text-align: right;\">\n",
       "      <th></th>\n",
       "      <th>lifetime</th>\n",
       "      <th>total_songs</th>\n",
       "      <th>num_thumb_up</th>\n",
       "      <th>num_thumb_down</th>\n",
       "      <th>avg_songs_played</th>\n",
       "      <th>gender</th>\n",
       "      <th>listen_time</th>\n",
       "      <th>NumFeatures</th>\n",
       "      <th>features</th>\n",
       "    </tr>\n",
       "    <tr>\n",
       "      <th>label</th>\n",
       "      <th></th>\n",
       "      <th></th>\n",
       "      <th></th>\n",
       "      <th></th>\n",
       "      <th></th>\n",
       "      <th></th>\n",
       "      <th></th>\n",
       "      <th></th>\n",
       "      <th></th>\n",
       "    </tr>\n",
       "  </thead>\n",
       "  <tbody>\n",
       "    <tr>\n",
       "      <th>0</th>\n",
       "      <td>110</td>\n",
       "      <td>110</td>\n",
       "      <td>110</td>\n",
       "      <td>110</td>\n",
       "      <td>110</td>\n",
       "      <td>110</td>\n",
       "      <td>110</td>\n",
       "      <td>110</td>\n",
       "      <td>110</td>\n",
       "    </tr>\n",
       "    <tr>\n",
       "      <th>1</th>\n",
       "      <td>32</td>\n",
       "      <td>32</td>\n",
       "      <td>32</td>\n",
       "      <td>32</td>\n",
       "      <td>32</td>\n",
       "      <td>32</td>\n",
       "      <td>32</td>\n",
       "      <td>32</td>\n",
       "      <td>32</td>\n",
       "    </tr>\n",
       "  </tbody>\n",
       "</table>\n",
       "</div>"
      ],
      "text/plain": [
       "       lifetime  total_songs  num_thumb_up  num_thumb_down  avg_songs_played  \\\n",
       "label                                                                          \n",
       "0           110          110           110             110               110   \n",
       "1            32           32            32              32                32   \n",
       "\n",
       "       gender  listen_time  NumFeatures  features  \n",
       "label                                              \n",
       "0         110          110          110       110  \n",
       "1          32           32           32        32  "
      ]
     },
     "execution_count": 38,
     "metadata": {},
     "output_type": "execute_result"
    }
   ],
   "source": [
    "train_Pd.groupby('label').count()"
   ]
  },
  {
   "cell_type": "code",
   "execution_count": 37,
   "metadata": {},
   "outputs": [
    {
     "name": "stdout",
     "output_type": "stream",
     "text": [
      "Number of Churn labels i..e. 1 : 32\n",
      "Number of otherwise labels i..e. 0 : 110\n"
     ]
    }
   ],
   "source": [
    "print(\"Number of Churn labels i..e. 1 : 32\")\n",
    "print(\"Number of otherwise labels i..e. 0 : 110\")"
   ]
  },
  {
   "cell_type": "markdown",
   "metadata": {},
   "source": [
    "> The number of churn and otherwise labels were not equal.\n",
    "\n",
    "> Unbalanced data,can effect model accuracy and performance.\n"
   ]
  },
  {
   "cell_type": "code",
   "execution_count": 70,
   "metadata": {},
   "outputs": [],
   "source": [
    "#Function which will be repeatedly used in modelling\n",
    "#build_model\n",
    "def build_model(model,train,validation,test): \n",
    "    start_time = time()\n",
    "    #cross validation \n",
    "    cv           =  CrossValidator(estimator=model,\n",
    "                              evaluator=MulticlassClassificationEvaluator(metricName='f1'), \n",
    "                              estimatorParamMaps=ParamGridBuilder().build(),\n",
    "                              numFolds=5)\n",
    "    #model fitting\n",
    "    cv_fit       = cv.fit(train)\n",
    "    #############################################################################################\n",
    "    #predictions on test Data\n",
    "    predictions  = cv_fit.transform(test)\n",
    "    #Eavlauating models  \n",
    "    evaluator    = MulticlassClassificationEvaluator(predictionCol=\"prediction\")\n",
    "    print (\"Evaluation on test Dataset\")\n",
    "    print('Accuracy: {}'.format(evaluator.evaluate(predictions , {evaluator.metricName: \"accuracy\"})))\n",
    "    print('F-1 Score:{}'.format(evaluator.evaluate(predictions , {evaluator.metricName: \"f1\"})))\n",
    "    ###############################################################################################\n",
    "    #predictions on Validation Data\n",
    "    predictions  = cv_fit.transform(validation)\n",
    "    #Eavlauating models  \n",
    "    evaluator    = MulticlassClassificationEvaluator(predictionCol=\"prediction\")\n",
    "    print (\"Evaluation on Validation Dataset\")\n",
    "    print('Accuracy: {}'.format(evaluator.evaluate(predictions , {evaluator.metricName: \"accuracy\"})))\n",
    "    print('F-1 Score:{}'.format(evaluator.evaluate(predictions , {evaluator.metricName: \"f1\"})))\n",
    "    end_time = time()\n",
    "    print (\"Time took for building the model :  %.2f\"%(end_time - start_time))\n",
    "####"
   ]
  },
  {
   "cell_type": "markdown",
   "metadata": {},
   "source": [
    "### Model 0. Baseline model\n",
    "        a. all users labelled as \"churn =0\"\n",
    "        b. all users labelled as \"churn =1\""
   ]
  },
  {
   "cell_type": "code",
   "execution_count": 71,
   "metadata": {},
   "outputs": [
    {
     "name": "stdout",
     "output_type": "stream",
     "text": [
      "Test set metrics:\n",
      "Accuracy: 0.7352941176470589\n",
      "F-1 Score:0.6231306081754736\n"
     ]
    }
   ],
   "source": [
    "#Predictions \n",
    "predictions  = test.withColumn('prediction', lit(0.0))\n",
    "#Eavlauating models  \n",
    "evaluator    = MulticlassClassificationEvaluator(predictionCol=\"prediction\")\n",
    "print('Test set metrics:')\n",
    "print('Accuracy: {}'.format(evaluator.evaluate(predictions , {evaluator.metricName: \"accuracy\"})))\n",
    "print('F-1 Score:{}'.format(evaluator.evaluate(predictions , {evaluator.metricName: \"f1\"})))"
   ]
  },
  {
   "cell_type": "code",
   "execution_count": 72,
   "metadata": {},
   "outputs": [
    {
     "name": "stdout",
     "output_type": "stream",
     "text": [
      "Test set metrics:\n",
      "Accuracy: 0.2647058823529412\n",
      "F-1 Score:0.11080711354309165\n"
     ]
    }
   ],
   "source": [
    "#Predictions \n",
    "predictions  = test.withColumn('prediction', lit(1.0))\n",
    "#Eavlauating models  \n",
    "evaluator    = MulticlassClassificationEvaluator(predictionCol=\"prediction\")\n",
    "print('Test set metrics:')\n",
    "print('Accuracy: {}'.format(evaluator.evaluate(predictions , {evaluator.metricName: \"accuracy\"})))\n",
    "print('F-1 Score:{}'.format(evaluator.evaluate(predictions , {evaluator.metricName: \"f1\"})))"
   ]
  },
  {
   "cell_type": "markdown",
   "metadata": {},
   "source": [
    "Baseline model has the poor prdictions, let us various other models and pick the one that predicts the best."
   ]
  },
  {
   "cell_type": "markdown",
   "metadata": {},
   "source": [
    "### Model 1. Logistic Regression"
   ]
  },
  {
   "cell_type": "code",
   "execution_count": 73,
   "metadata": {},
   "outputs": [
    {
     "name": "stdout",
     "output_type": "stream",
     "text": [
      "Evaluation on test Dataset\n",
      "Accuracy: 0.75\n",
      "F-1 Score:0.6563202878992354\n",
      "Evaluation on Validation Dataset\n",
      "Accuracy: 0.8666666666666667\n",
      "F-1 Score:0.8047619047619048\n",
      "Time took for building the model :  694.45\n"
     ]
    }
   ],
   "source": [
    "build_model(LogisticRegression(maxIter=5),train,validation,test)"
   ]
  },
  {
   "cell_type": "markdown",
   "metadata": {},
   "source": [
    "###    \"Model : Logistic Regression\"\n",
    "    Evaluation on test Dataset\n",
    "       Accuracy : 75%\n",
    "       F-1 Score: 66%\n",
    "    Evaluation on Validation Dataset\n",
    "       Accuracy : 87%\n",
    "       F-1 Score: 80%\n",
    "    Time took for building the model : 23 mins."
   ]
  },
  {
   "cell_type": "markdown",
   "metadata": {},
   "source": [
    "### Model 2 : Gradient Boosted Trees "
   ]
  },
  {
   "cell_type": "code",
   "execution_count": 74,
   "metadata": {},
   "outputs": [
    {
     "name": "stdout",
     "output_type": "stream",
     "text": [
      "Evaluation on test Dataset\n",
      "Accuracy: 0.7205882352941176\n",
      "F-1 Score:0.7270140411438168\n",
      "Evaluation on Validation Dataset\n",
      "Accuracy: 0.8666666666666667\n",
      "F-1 Score:0.8047619047619048\n",
      "Time took for building the model :  1840.04\n"
     ]
    }
   ],
   "source": [
    "build_model(GBTClassifier(maxIter=10,seed=42),train,validation,test)"
   ]
  },
  {
   "cell_type": "markdown",
   "metadata": {},
   "source": [
    "###   \"Model : Gradient Boosted Trees\"\n",
    "    Evaluation on test Dataset\n",
    "       Accuracy : 72%\n",
    "       F-1 Score: 72%\n",
    "    Evaluation on Validation Dataset\n",
    "       Accuracy : 87%\n",
    "       F-1 Score: 80%\n",
    "    Time took for building the model : 30 mins."
   ]
  },
  {
   "cell_type": "markdown",
   "metadata": {},
   "source": [
    "### Model 3 : Support Vector Machine"
   ]
  },
  {
   "cell_type": "code",
   "execution_count": 76,
   "metadata": {},
   "outputs": [
    {
     "name": "stdout",
     "output_type": "stream",
     "text": [
      "Evaluation on test Dataset\n",
      "Accuracy: 0.7352941176470589\n",
      "F-1 Score:0.6231306081754736\n",
      "Evaluation on Validation Dataset\n",
      "Accuracy: 0.8666666666666667\n",
      "F-1 Score:0.8047619047619048\n",
      "Time took for building the model :  1073.79\n"
     ]
    }
   ],
   "source": [
    "build_model(LinearSVC(maxIter=10),train,validation,test)"
   ]
  },
  {
   "cell_type": "markdown",
   "metadata": {},
   "source": [
    "###    \"Model : Support Vector Machine\"\n",
    "    Evaluation on test Dataset\n",
    "       Accuracy : 73%\n",
    "       F-1 Score: 62%\n",
    "    Evaluation on Validation Dataset\n",
    "       Accuracy : 86%\n",
    "       F-1 Score: 80%\n",
    "    Time took for building the model : 17mins."
   ]
  },
  {
   "cell_type": "markdown",
   "metadata": {},
   "source": [
    "### Final Model and Conclusion "
   ]
  },
  {
   "cell_type": "markdown",
   "metadata": {},
   "source": [
    "#### Final Model \n",
    "    \"Gradient Boosted Trees\" has better perfromance than Logistic Regression and Support Vector Machine models.\n",
    "    Evaluation Stats  on test Dataset : \n",
    "    Accuracy: 72%\n",
    "    F-1 Score:73%\n",
    "    Evaluation Stats  on Validation Dataset : \n",
    "    Accuracy: 87%\n",
    "    F-1 Score:80%\n",
    "    Time took for building the model : 32 mins."
   ]
  },
  {
   "cell_type": "markdown",
   "metadata": {},
   "source": [
    "#### Conclusion : \n",
    "Logistic Regression model, take lowest computational time but compartively, Gradient Boost Trees model have best  prediction accuracy and F1-score value on test and validation datasets.Hence, Gradient Boost Trees model is the final optimal model for identifying  coustmer churn.\n",
    "It should be noted that only small subset of data is used for modelling, predictions could be improved by using more relevant features and larger data.\n",
    "\n",
    "Model predictions can  be further improved by, \n",
    " 1. Hyper parameter tuning. \n",
    " 2. Using training dataset with balanced labels.\n",
    " 3. Trying other robust algorithms by referring to literature.\n",
    "            "
   ]
  },
  {
   "cell_type": "markdown",
   "metadata": {},
   "source": [
    "#### Learning Outcome : \n",
    "By performing current data analysis, I could make use of the Datascience skills that I have learn throgh the course work and got and oppurtunity to practically work on Apache Spark.\n",
    "\n",
    "Blog Post : https://medium.com/@c.yesesri1/sparkify-costumer-data-analysis-b51ac37b4091?sk=8de8044a6da07ca75866dc4027015f8a"
   ]
  }
 ],
 "metadata": {
  "kernelspec": {
   "display_name": "Python 3",
   "language": "python",
   "name": "python3"
  },
  "language_info": {
   "codemirror_mode": {
    "name": "ipython",
    "version": 3
   },
   "file_extension": ".py",
   "mimetype": "text/x-python",
   "name": "python",
   "nbconvert_exporter": "python",
   "pygments_lexer": "ipython3",
   "version": "3.6.3"
  }
 },
 "nbformat": 4,
 "nbformat_minor": 2
}
